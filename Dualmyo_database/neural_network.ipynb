{
 "cells": [
  {
   "cell_type": "markdown",
   "id": "bcf68998",
   "metadata": {},
   "source": [
    "## This Notebook handels the Dualmyo Database \n",
    "\n",
    "In this notebook the paper EMG-based online classification of gestures with recurrent neural networks will be copied\n",
    "\n",
    "8 Gestures, 16 Channel-EMG placed on the the wirst and 110 repitions, 5 recordings sessions, 200Hz, 95 synthetic sequences\n",
    "\n",
    "Each sequence has a lenth of about 50sec (about 10000 timestemps)\n",
    "\n",
    "https://zenodo.org/record/1320922#.Y9DlgtLMJhE\n",
    "\n",
    "paper: EMG-based online classification of gestures with recurrent neural networks"
   ]
  },
  {
   "cell_type": "code",
   "execution_count": 2,
   "id": "52be94b7",
   "metadata": {},
   "outputs": [],
   "source": [
    "import pickle\n",
    "import gzip\n",
    "import os\n",
    "import numpy as np\n",
    "import random"
   ]
  },
  {
   "cell_type": "code",
   "execution_count": 3,
   "id": "b6220e0e",
   "metadata": {},
   "outputs": [],
   "source": [
    "opsys = \"Windows\"\n",
    "if opsys == \"Linux\":\n",
    "    path = os.path.abspath(\"/home/finn/Dokumente/EMG_data/UC2018 DualMyo Hand Gesture Dataset/dualmyo_dataset.pkl\")\n",
    "elif opsys == \"Windows\": \n",
    "    path = os.path.abspath(\"C:/Users/Finn/Jupyter Notebooks/EMG_AI_testing/Dualmyo_database/UC2018 DualMyo Hand Gesture Dataset/dualmyo_dataset.pkl\")"
   ]
  },
  {
   "cell_type": "code",
   "execution_count": 4,
   "id": "e1efc73e",
   "metadata": {},
   "outputs": [],
   "source": [
    "with open(path, 'rb') as f:\n",
    "    data = pickle.load(f)"
   ]
  },
  {
   "cell_type": "markdown",
   "id": "5de26a3c",
   "metadata": {},
   "source": [
    "# Extract independant and dependant data \n",
    "## independant data like: samples, length, EMG-channels"
   ]
  },
  {
   "cell_type": "code",
   "execution_count": 4,
   "id": "d2490c8a",
   "metadata": {},
   "outputs": [
    {
     "data": {
      "text/plain": [
       "(881, 400, 20)"
      ]
     },
     "execution_count": 4,
     "metadata": {},
     "output_type": "execute_result"
    }
   ],
   "source": [
    "x, y = data[0], data[1]\n",
    "x = np.concatenate([sample.reshape(((1,) + sample.shape)) for sample in x])\n",
    "y = np.array(y)\n",
    "x.shape"
   ]
  },
  {
   "cell_type": "code",
   "execution_count": 5,
   "id": "ec65e6e0",
   "metadata": {},
   "outputs": [
    {
     "data": {
      "text/plain": [
       "(array([0, 1, 2, 3, 4, 5, 6, 7]),\n",
       " array([110, 110, 110, 110, 111, 110, 110, 110], dtype=int64))"
      ]
     },
     "execution_count": 5,
     "metadata": {},
     "output_type": "execute_result"
    }
   ],
   "source": [
    "np.unique(y, return_counts=True)"
   ]
  },
  {
   "cell_type": "code",
   "execution_count": 6,
   "id": "af782ab7",
   "metadata": {},
   "outputs": [
    {
     "data": {
      "text/plain": [
       "(array([  5,  14,  16,  30,  33,  41,  53,  63,  64,  72,  82,  90, 103,\n",
       "        105, 116, 120, 134, 138, 149, 155, 163, 171, 176, 190, 193, 206,\n",
       "        215, 219, 231, 237, 244, 249, 258, 269, 278, 287, 293, 296, 306,\n",
       "        318, 324, 335, 341, 351, 358, 360, 369, 378, 384, 397, 403, 414,\n",
       "        418, 427, 434, 446, 450, 456, 467, 479, 481, 493, 503, 510, 515,\n",
       "        524, 530, 539, 546, 559, 564, 572, 582, 586, 595, 607, 608, 620,\n",
       "        626, 639, 646, 652, 656, 664, 672, 680, 692, 700, 711, 716, 724,\n",
       "        732, 737, 752, 758, 768, 769, 780, 792, 797, 806, 816, 821, 825,\n",
       "        830, 843, 848, 859, 869, 870], dtype=int64),)"
      ]
     },
     "execution_count": 6,
     "metadata": {},
     "output_type": "execute_result"
    }
   ],
   "source": [
    "np.where(y == 0)"
   ]
  },
  {
   "cell_type": "markdown",
   "id": "60ee3b4b",
   "metadata": {},
   "source": [
    "## Split data indices into train, val and test data "
   ]
  },
  {
   "cell_type": "code",
   "execution_count": 7,
   "id": "8da419ae",
   "metadata": {},
   "outputs": [
    {
     "data": {
      "text/plain": [
       "((528,), (176,), (177,))"
      ]
     },
     "execution_count": 7,
     "metadata": {},
     "output_type": "execute_result"
    }
   ],
   "source": [
    "from sklearn.model_selection import StratifiedShuffleSplit\n",
    "\n",
    "train_ration, val_ratio, test_ratio = 0.6, 0.2, 0.2\n",
    "indices = np.arange(len(y))\n",
    "sss = StratifiedShuffleSplit(random_state=42, test_size=val_ratio+test_ratio).split(indices, y)\n",
    "indx_train, indx_test = next(sss)\n",
    "sss = StratifiedShuffleSplit(random_state=42, test_size=test_ratio/(test_ratio + val_ratio)).split(indx_test, y[indx_test])\n",
    "indx_test, indx_val = next(sss)\n",
    "indx_train.shape, indx_test.shape, indx_val.shape"
   ]
  },
  {
   "cell_type": "markdown",
   "id": "9fd1f6bd",
   "metadata": {},
   "source": [
    "## Generate sequences consisting of n = 8 consecutive gestures"
   ]
  },
  {
   "cell_type": "code",
   "execution_count": 8,
   "id": "d4cb7b7b",
   "metadata": {},
   "outputs": [
    {
     "data": {
      "text/plain": [
       "((66, 3200, 20), (22, 3200, 20), (22, 3200, 20))"
      ]
     },
     "execution_count": 8,
     "metadata": {},
     "output_type": "execute_result"
    }
   ],
   "source": [
    "# set random seeds for repuducability\n",
    "random.seed(42)\n",
    "np.random.seed(42)\n",
    "def return_sequence(x, y, indices, n=8): \n",
    "    # new shape: 66, 3200, 20\n",
    "    length = len(x[indices]) // n\n",
    "    indices = indices[(len(indices) % 8):]\n",
    "    indx_shuf = indices.reshape(length, n)\n",
    "    return x[indx_shuf].reshape(length, -1, x.shape[2]), np.repeat(y[indx_shuf], x.shape[1], axis=1)\n",
    "\n",
    "x_train, y_train = return_sequence(x, y, indx_train)\n",
    "x_test, y_test = return_sequence(x, y, indx_test)\n",
    "x_val, y_val = return_sequence(x, y, indx_val)\n",
    "x_train.shape, x_val.shape, x_test.shape"
   ]
  },
  {
   "cell_type": "markdown",
   "id": "fe245dff",
   "metadata": {},
   "source": [
    "## Sliding windows on each sequence\n",
    "##### because step=1 input array and output have same dimensions except for one window (first)"
   ]
  },
  {
   "cell_type": "code",
   "execution_count": 9,
   "id": "304d446b",
   "metadata": {},
   "outputs": [
    {
     "data": {
      "text/plain": [
       "(204666, 100, 20)"
      ]
     },
     "execution_count": 9,
     "metadata": {},
     "output_type": "execute_result"
    }
   ],
   "source": [
    "from numpy.lib.stride_tricks import sliding_window_view\n",
    "\n",
    "def window_data(ary, length=100, step=1):\n",
    "    \"\"\" Please make sure sensors are on col, time in row \"\"\"\n",
    "    if len(ary.shape) >= 2:\n",
    "        return sliding_window_view(ary,(length, ary.shape[1]))[::step, 0]\n",
    "    else:\n",
    "        return sliding_window_view(ary, length)[::step]\n",
    "    \n",
    "\n",
    "X1 = np.vstack([window_data(x, 100) for x in x_train])\n",
    "X2 = np.vstack([window_data(x, 100) for x in x_val])\n",
    "X3 = np.vstack([window_data(x, 100) for x in x_test])\n",
    "X1.shape"
   ]
  },
  {
   "cell_type": "code",
   "execution_count": 10,
   "id": "d3181ed4",
   "metadata": {},
   "outputs": [
    {
     "data": {
      "text/plain": [
       "(66, 3200)"
      ]
     },
     "execution_count": 10,
     "metadata": {},
     "output_type": "execute_result"
    }
   ],
   "source": [
    "y_train.shape"
   ]
  },
  {
   "cell_type": "code",
   "execution_count": 11,
   "id": "90af9db2",
   "metadata": {},
   "outputs": [
    {
     "data": {
      "text/plain": [
       "(204666,)"
      ]
     },
     "execution_count": 11,
     "metadata": {},
     "output_type": "execute_result"
    }
   ],
   "source": [
    "# keep targets the same length as corresponding X\n",
    "Y1 = np.ravel([[np.argmax(np.bincount(win)) for win in window_data(y, 100)] for y in y_train])\n",
    "Y2 = np.ravel([[np.argmax(np.bincount(win)) for win in window_data(y, 100)] for y in y_val])\n",
    "Y3 = np.ravel([[np.argmax(np.bincount(win)) for win in window_data(y, 100)] for y in y_test])\n",
    "Y1.shape"
   ]
  },
  {
   "cell_type": "code",
   "execution_count": 12,
   "id": "ca40d562",
   "metadata": {},
   "outputs": [
    {
     "data": {
      "text/plain": [
       "(204666, 8)"
      ]
     },
     "execution_count": 12,
     "metadata": {},
     "output_type": "execute_result"
    }
   ],
   "source": [
    "# One Hot Encode Targets\n",
    "from sklearn.preprocessing import OneHotEncoder\n",
    "\n",
    "def check_data(function): \n",
    "    def wrapper(*args): \n",
    "        for arg in args: \n",
    "            if np.max(np.unique(arg)) <= 1:\n",
    "                raise ValueError(\"Data probably already One Hot encoded\")\n",
    "        else:\n",
    "            return function(*args)\n",
    "    return wrapper\n",
    "        \n",
    "\n",
    "@check_data\n",
    "def ohe_targets(train_targets, *targets): \n",
    "    encoder = OneHotEncoder()\n",
    "    encoder.fit(train_targets)\n",
    "    train_targets = encoder.transform(train_targets)\n",
    "    n_tar = []\n",
    "    for tar in targets: \n",
    "        n_tar.append(encoder.transform(tar))\n",
    "    return train_targets.toarray(), *[x.toarray() for x in n_tar]\n",
    "\n",
    "# a, b, c = [np.arange(5).reshape(-1, 1) for i in range(3)]\n",
    "# a, b, c = ohe_targets(a, b, c)\n",
    "# a, b, c\n",
    "Y1, Y2, Y3 = ohe_targets(Y1.reshape(-1, 1), Y2.reshape(-1, 1), Y3.reshape(-1, 1))\n",
    "Y1.shape"
   ]
  },
  {
   "cell_type": "markdown",
   "id": "2e56682f",
   "metadata": {},
   "source": [
    "## Feature Extraction\n",
    "#### Standard deviation on every window and drop of useless cols"
   ]
  },
  {
   "cell_type": "code",
   "execution_count": 13,
   "id": "aeec2662",
   "metadata": {},
   "outputs": [
    {
     "data": {
      "text/plain": [
       "((204666, 16), (68222, 16), (68222, 16))"
      ]
     },
     "execution_count": 13,
     "metadata": {},
     "output_type": "execute_result"
    }
   ],
   "source": [
    "def std(ary): \n",
    "    ary = np.delete(ary, [0, 1, 10, 11], axis=2)\n",
    "    return np.std(ary, axis=1)\n",
    "\n",
    "X1 = std(X1)\n",
    "X2 = std(X2)\n",
    "X3 = std(X3)\n",
    "X1.shape, X2.shape, X3.shape"
   ]
  },
  {
   "cell_type": "markdown",
   "id": "28ac9a94",
   "metadata": {},
   "source": [
    "### Feature Scaling \n"
   ]
  },
  {
   "cell_type": "code",
   "execution_count": 14,
   "id": "89c95680",
   "metadata": {},
   "outputs": [
    {
     "data": {
      "text/plain": [
       "(68222, 16)"
      ]
     },
     "execution_count": 14,
     "metadata": {},
     "output_type": "execute_result"
    }
   ],
   "source": [
    "from sklearn.preprocessing import StandardScaler\n",
    "\n",
    "scaler = StandardScaler()\n",
    "scaler.fit(X1)\n",
    "\n",
    "X1 = scaler.transform(X1)\n",
    "X2 = scaler.transform(X2)\n",
    "X3 = scaler.transform(X3)\n",
    "X3.shape"
   ]
  },
  {
   "cell_type": "markdown",
   "id": "9d523a6e",
   "metadata": {},
   "source": [
    "## LSTM Model for online learning\n",
    "#### stolen from: https://towardsdatascience.com/lstm-for-predictive-maintenance-on-pump-sensor-data-b43486eb3210"
   ]
  },
  {
   "cell_type": "code",
   "execution_count": 15,
   "id": "aa751989",
   "metadata": {},
   "outputs": [],
   "source": [
    "if True: \n",
    "    xtrain = X1.reshape(X1.shape[0], 1, X1.shape[1])\n",
    "    ytrain, ytrain_hot = np.argmax(Y1, axis=1), Y1\n",
    "    xval = X2.reshape(X2.shape[0], 1, X2.shape[1])\n",
    "    yval, yval_hot = np.argmax(Y2, axis=1), Y2\n",
    "    xtest = X3.reshape(X3.shape[0], 1, X3.shape[1])\n",
    "    ytest, ytest_hot = np.argmax(Y3, axis=1), Y3"
   ]
  },
  {
   "cell_type": "code",
   "execution_count": 16,
   "id": "2c162800",
   "metadata": {},
   "outputs": [
    {
     "name": "stdout",
     "output_type": "stream",
     "text": [
      "Model: \"model\"\n",
      "__________________________________________________________________________________________________\n",
      " Layer (type)                   Output Shape         Param #     Connected to                     \n",
      "==================================================================================================\n",
      " input_1 (InputLayer)           [(None, 1, 16)]      0           []                               \n",
      "                                                                                                  \n",
      " lstm (LSTM)                    (None, 1, 50)        13400       ['input_1[0][0]']                \n",
      "                                                                                                  \n",
      " lstm_1 (LSTM)                  (None, 50)           20200       ['lstm[0][0]']                   \n",
      "                                                                                                  \n",
      " signal_out (Dense)             (None, 1)            51          ['lstm_1[0][0]']                 \n",
      "                                                                                                  \n",
      " class_out (Dense)              (None, 8)            408         ['lstm_1[0][0]']                 \n",
      "                                                                                                  \n",
      "==================================================================================================\n",
      "Total params: 34,059\n",
      "Trainable params: 34,059\n",
      "Non-trainable params: 0\n",
      "__________________________________________________________________________________________________\n"
     ]
    }
   ],
   "source": [
    "import tensorflow as tf\n",
    "from keras.layers import LSTM, Dropout, Dense\n",
    "\n",
    "\n",
    "# form: samples (0), timesteps (1), sensor (2)\n",
    "inputs = tf.keras.Input(shape=(xtrain.shape[1], xtrain.shape[2]))\n",
    "x = LSTM(50, activation=\"relu\", input_shape=(xtrain.shape[1], xtrain.shape[2]), return_sequences=True)(inputs)\n",
    "x = LSTM(50, activation=\"relu\")(x)\n",
    "out_signal = Dense(1, name=\"signal_out\")(x)\n",
    "out_class = Dense(8, activation=\"softmax\", name=\"class_out\")(x)\n",
    "\n",
    "model = tf.keras.Model(inputs=inputs, outputs=[out_signal, out_class])\n",
    "\n",
    "model.compile(loss={\"signal_out\": \"mean_squared_error\", \n",
    "                   \"class_out\": \"categorical_crossentropy\"}, \n",
    "             optimizer=\"adam\", \n",
    "             metrics={\"class_out\": \"acc\"})\n",
    "model.summary()"
   ]
  },
  {
   "cell_type": "code",
   "execution_count": 17,
   "id": "e085d72f",
   "metadata": {},
   "outputs": [
    {
     "data": {
      "text/plain": [
       "((204666, 1, 16), (204666, 8))"
      ]
     },
     "execution_count": 17,
     "metadata": {},
     "output_type": "execute_result"
    }
   ],
   "source": [
    "xtrain.shape, ytrain_hot.shape"
   ]
  },
  {
   "cell_type": "code",
   "execution_count": 18,
   "id": "071d99b7",
   "metadata": {},
   "outputs": [
    {
     "name": "stdout",
     "output_type": "stream",
     "text": [
      "Epoch 1/20\n",
      "6396/6396 [==============================] - 16s 2ms/step - loss: 0.5710 - signal_out_loss: 0.1255 - class_out_loss: 0.4454 - class_out_acc: 0.8372 - val_loss: 0.4636 - val_signal_out_loss: 0.1216 - val_class_out_loss: 0.3420 - val_class_out_acc: 0.8749\n",
      "Epoch 2/20\n",
      "6396/6396 [==============================] - 14s 2ms/step - loss: 0.3900 - signal_out_loss: 0.1174 - class_out_loss: 0.2725 - class_out_acc: 0.8978 - val_loss: 0.4250 - val_signal_out_loss: 0.1206 - val_class_out_loss: 0.3044 - val_class_out_acc: 0.8880\n",
      "Epoch 3/20\n",
      "6396/6396 [==============================] - 14s 2ms/step - loss: 0.3605 - signal_out_loss: 0.1143 - class_out_loss: 0.2461 - class_out_acc: 0.9040 - val_loss: 0.3985 - val_signal_out_loss: 0.1098 - val_class_out_loss: 0.2887 - val_class_out_acc: 0.8924\n",
      "Epoch 4/20\n",
      "6396/6396 [==============================] - 15s 2ms/step - loss: 0.3417 - signal_out_loss: 0.1120 - class_out_loss: 0.2296 - class_out_acc: 0.9091 - val_loss: 0.3839 - val_signal_out_loss: 0.1134 - val_class_out_loss: 0.2705 - val_class_out_acc: 0.8986\n",
      "Epoch 5/20\n",
      "6396/6396 [==============================] - 14s 2ms/step - loss: 0.3275 - signal_out_loss: 0.1125 - class_out_loss: 0.2151 - class_out_acc: 0.9168 - val_loss: 0.3883 - val_signal_out_loss: 0.1123 - val_class_out_loss: 0.2759 - val_class_out_acc: 0.8982\n",
      "Epoch 6/20\n",
      "6396/6396 [==============================] - 13s 2ms/step - loss: 0.3144 - signal_out_loss: 0.1127 - class_out_loss: 0.2017 - class_out_acc: 0.9201 - val_loss: 0.3908 - val_signal_out_loss: 0.1144 - val_class_out_loss: 0.2763 - val_class_out_acc: 0.9013\n",
      "Epoch 7/20\n",
      "6396/6396 [==============================] - 13s 2ms/step - loss: 0.3012 - signal_out_loss: 0.1116 - class_out_loss: 0.1896 - class_out_acc: 0.9238 - val_loss: 0.3717 - val_signal_out_loss: 0.1116 - val_class_out_loss: 0.2601 - val_class_out_acc: 0.9048\n",
      "Epoch 8/20\n",
      "6396/6396 [==============================] - 13s 2ms/step - loss: 0.2942 - signal_out_loss: 0.1115 - class_out_loss: 0.1827 - class_out_acc: 0.9270 - val_loss: 0.3689 - val_signal_out_loss: 0.1215 - val_class_out_loss: 0.2474 - val_class_out_acc: 0.9085\n",
      "Epoch 9/20\n",
      "6396/6396 [==============================] - 13s 2ms/step - loss: 0.2858 - signal_out_loss: 0.1118 - class_out_loss: 0.1740 - class_out_acc: 0.9293 - val_loss: 0.3723 - val_signal_out_loss: 0.1105 - val_class_out_loss: 0.2618 - val_class_out_acc: 0.9067\n",
      "Epoch 10/20\n",
      "6396/6396 [==============================] - 14s 2ms/step - loss: 0.2814 - signal_out_loss: 0.1114 - class_out_loss: 0.1700 - class_out_acc: 0.9318 - val_loss: 0.3639 - val_signal_out_loss: 0.1116 - val_class_out_loss: 0.2523 - val_class_out_acc: 0.9081\n",
      "Epoch 11/20\n",
      "6396/6396 [==============================] - 13s 2ms/step - loss: 0.2790 - signal_out_loss: 0.1124 - class_out_loss: 0.1666 - class_out_acc: 0.9329 - val_loss: 0.3544 - val_signal_out_loss: 0.1114 - val_class_out_loss: 0.2430 - val_class_out_acc: 0.9116\n",
      "Epoch 12/20\n",
      "6396/6396 [==============================] - 14s 2ms/step - loss: 0.2747 - signal_out_loss: 0.1117 - class_out_loss: 0.1630 - class_out_acc: 0.9347 - val_loss: 0.3505 - val_signal_out_loss: 0.1114 - val_class_out_loss: 0.2391 - val_class_out_acc: 0.9149\n",
      "Epoch 13/20\n",
      "6396/6396 [==============================] - 13s 2ms/step - loss: 0.2715 - signal_out_loss: 0.1114 - class_out_loss: 0.1601 - class_out_acc: 0.9365 - val_loss: 0.3592 - val_signal_out_loss: 0.1195 - val_class_out_loss: 0.2397 - val_class_out_acc: 0.9142\n",
      "Epoch 14/20\n",
      "6396/6396 [==============================] - 13s 2ms/step - loss: 0.2656 - signal_out_loss: 0.1119 - class_out_loss: 0.1537 - class_out_acc: 0.9385 - val_loss: 0.3663 - val_signal_out_loss: 0.1103 - val_class_out_loss: 0.2560 - val_class_out_acc: 0.9115\n",
      "Epoch 15/20\n",
      "6396/6396 [==============================] - 13s 2ms/step - loss: 0.2650 - signal_out_loss: 0.1115 - class_out_loss: 0.1534 - class_out_acc: 0.9397 - val_loss: 0.3936 - val_signal_out_loss: 0.1118 - val_class_out_loss: 0.2817 - val_class_out_acc: 0.9098\n",
      "Epoch 16/20\n",
      "6396/6396 [==============================] - 14s 2ms/step - loss: 0.2619 - signal_out_loss: 0.1115 - class_out_loss: 0.1504 - class_out_acc: 0.9367 - val_loss: 0.3572 - val_signal_out_loss: 0.1113 - val_class_out_loss: 0.2459 - val_class_out_acc: 0.9169\n",
      "Epoch 17/20\n",
      "6396/6396 [==============================] - 14s 2ms/step - loss: 0.2599 - signal_out_loss: 0.1121 - class_out_loss: 0.1479 - class_out_acc: 0.9426 - val_loss: 0.3766 - val_signal_out_loss: 0.1110 - val_class_out_loss: 0.2657 - val_class_out_acc: 0.9118\n",
      "Epoch 18/20\n",
      "6396/6396 [==============================] - 15s 2ms/step - loss: 0.2548 - signal_out_loss: 0.1119 - class_out_loss: 0.1429 - class_out_acc: 0.9432 - val_loss: 0.3727 - val_signal_out_loss: 0.1128 - val_class_out_loss: 0.2599 - val_class_out_acc: 0.9162\n",
      "Epoch 19/20\n",
      "6396/6396 [==============================] - 15s 2ms/step - loss: 0.2547 - signal_out_loss: 0.1118 - class_out_loss: 0.1429 - class_out_acc: 0.9428 - val_loss: 0.3777 - val_signal_out_loss: 0.1115 - val_class_out_loss: 0.2662 - val_class_out_acc: 0.9153\n",
      "Epoch 20/20\n",
      "6396/6396 [==============================] - 14s 2ms/step - loss: 0.2503 - signal_out_loss: 0.1125 - class_out_loss: 0.1378 - class_out_acc: 0.9443 - val_loss: 0.3845 - val_signal_out_loss: 0.1110 - val_class_out_loss: 0.2735 - val_class_out_acc: 0.9139\n"
     ]
    }
   ],
   "source": [
    "history = model.fit(xtrain, ytrain_hot, epochs=20, batch_size=32, validation_data=(xval, yval_hot), shuffle=False)"
   ]
  },
  {
   "cell_type": "code",
   "execution_count": 19,
   "id": "9e67caa8",
   "metadata": {},
   "outputs": [
    {
     "data": {
      "text/plain": [
       "<matplotlib.legend.Legend at 0x2817ca9ba00>"
      ]
     },
     "execution_count": 19,
     "metadata": {},
     "output_type": "execute_result"
    },
    {
     "data": {
      "image/png": "[encoded data removed]",
      "text/plain": [
       "<Figure size 640x480 with 1 Axes>"
      ]
     },
     "metadata": {},
     "output_type": "display_data"
    }
   ],
   "source": [
    "import matplotlib.pyplot as plt\n",
    "\n",
    "plt.plot(history.history[\"class_out_loss\"])\n",
    "plt.plot(history.history[\"val_class_out_loss\"])\n",
    "plt.title(\"MODEL LOSS\")\n",
    "plt.legend([\"train\", \"validation\"])"
   ]
  },
  {
   "cell_type": "code",
   "execution_count": 20,
   "id": "9b583003",
   "metadata": {},
   "outputs": [
    {
     "data": {
      "text/plain": [
       "<matplotlib.legend.Legend at 0x28162ebde80>"
      ]
     },
     "execution_count": 20,
     "metadata": {},
     "output_type": "execute_result"
    },
    {
     "data": {
      "image/png": "[encoded data removed]",
      "text/plain": [
       "<Figure size 640x480 with 1 Axes>"
      ]
     },
     "metadata": {},
     "output_type": "display_data"
    }
   ],
   "source": [
    "plt.plot(history.history[\"class_out_acc\"])\n",
    "plt.plot(history.history[\"val_class_out_acc\"])\n",
    "plt.title(\"MODEL ACCURACY\")\n",
    "plt.legend([\"train\", \"validation\"])"
   ]
  },
  {
   "cell_type": "code",
   "execution_count": 21,
   "id": "b3644d32",
   "metadata": {},
   "outputs": [
    {
     "name": "stdout",
     "output_type": "stream",
     "text": [
      "2132/2132 [==============================] - 2s 934us/step\n"
     ]
    }
   ],
   "source": [
    "yhat, yclass = model.predict(xtest)"
   ]
  },
  {
   "cell_type": "code",
   "execution_count": 22,
   "id": "cc81d3b7",
   "metadata": {},
   "outputs": [],
   "source": [
    "Yclass = np.argmax(yclass, axis=1)"
   ]
  },
  {
   "cell_type": "code",
   "execution_count": 23,
   "id": "8e959fc4",
   "metadata": {},
   "outputs": [
    {
     "data": {
      "text/plain": [
       "array([7, 7, 7, ..., 1, 1, 1], dtype=int64)"
      ]
     },
     "execution_count": 23,
     "metadata": {},
     "output_type": "execute_result"
    }
   ],
   "source": [
    "ytest"
   ]
  },
  {
   "cell_type": "code",
   "execution_count": 24,
   "id": "701589b4",
   "metadata": {},
   "outputs": [
    {
     "data": {
      "text/plain": [
       "[<matplotlib.lines.Line2D at 0x2817d11d550>]"
      ]
     },
     "execution_count": 24,
     "metadata": {},
     "output_type": "execute_result"
    },
    {
     "data": {
      "image/png": "[encoded data removed]",
      "text/plain": [
       "<Figure size 640x480 with 1 Axes>"
      ]
     },
     "metadata": {},
     "output_type": "display_data"
    }
   ],
   "source": [
    "plt.plot(ytest)\n",
    "plt.plot(Yclass)"
   ]
  },
  {
   "cell_type": "code",
   "execution_count": 25,
   "id": "fbbd27a6",
   "metadata": {},
   "outputs": [
    {
     "data": {
      "text/plain": [
       "0.928718008853449"
      ]
     },
     "execution_count": 25,
     "metadata": {},
     "output_type": "execute_result"
    }
   ],
   "source": [
    "from sklearn.metrics import confusion_matrix, accuracy_score\n",
    "\n",
    "accuracy_score(ytest, Yclass)"
   ]
  },
  {
   "cell_type": "code",
   "execution_count": 26,
   "id": "a4787450",
   "metadata": {},
   "outputs": [
    {
     "name": "stdout",
     "output_type": "stream",
     "text": [
      "Model: \"model_1\"\n",
      "__________________________________________________________________________________________________\n",
      " Layer (type)                   Output Shape         Param #     Connected to                     \n",
      "==================================================================================================\n",
      " input_2 (InputLayer)           [(None, 1, 16)]      0           []                               \n",
      "                                                                                                  \n",
      " dense (Dense)                  (None, 1, 400)       6800        ['input_2[0][0]']                \n",
      "                                                                                                  \n",
      " lstm_2 (LSTM)                  (None, 256)          672768      ['dense[0][0]']                  \n",
      "                                                                                                  \n",
      " class_out (Dense)              (None, 8)            2056        ['lstm_2[0][0]']                 \n",
      "                                                                                                  \n",
      " signal_out (Dense)             (None, 1)            257         ['lstm_2[0][0]']                 \n",
      "                                                                                                  \n",
      "==================================================================================================\n",
      "Total params: 681,881\n",
      "Trainable params: 681,881\n",
      "Non-trainable params: 0\n",
      "__________________________________________________________________________________________________\n"
     ]
    }
   ],
   "source": [
    "# form: samples (0), timesteps (1), sensor (2)\n",
    "\n",
    "inputs = tf.keras.Input(shape=(xtrain.shape[1], xtrain.shape[2]))\n",
    "x = Dense(400, activation=\"tanh\", input_shape=(xtrain.shape[1], x_train.shape[2]))(inputs)\n",
    "# x = LSTM(50, activation=\"relu\", input_shape=(xtrain.shape[1], xtrain.shape[2]), return_sequences=True)(inputs)\n",
    "x = LSTM(256, activation=\"tanh\", input_shape=(xtrain.shape[1], xtrain.shape[2]))(x)\n",
    "out_signal = Dense(1, name=\"signal_out\")(x)\n",
    "out_class = Dense(8, activation=\"softmax\", name=\"class_out\")(x)\n",
    "\n",
    "model = tf.keras.Model(inputs=inputs, outputs=[out_class, out_signal])\n",
    "\n",
    "model.compile(loss={\"class_out\": \"categorical_crossentropy\", \n",
    "                   \"signal_out\": \"mean_squared_error\"}, \n",
    "             optimizer=\"adam\", \n",
    "             metrics={\"class_out\": \"acc\"})\n",
    "model.summary()"
   ]
  },
  {
   "cell_type": "code",
   "execution_count": 27,
   "id": "61b8efab",
   "metadata": {},
   "outputs": [
    {
     "name": "stdout",
     "output_type": "stream",
     "text": [
      "Epoch 1/20\n",
      "6396/6396 [==============================] - 25s 4ms/step - loss: 0.5069 - class_out_loss: 0.3787 - signal_out_loss: 0.1281 - class_out_acc: 0.8669 - val_loss: 0.7373 - val_class_out_loss: 0.5858 - val_signal_out_loss: 0.1514 - val_class_out_acc: 0.8173\n",
      "Epoch 2/20\n",
      "6396/6396 [==============================] - 23s 4ms/step - loss: 0.4371 - class_out_loss: 0.3184 - signal_out_loss: 0.1187 - class_out_acc: 0.8828 - val_loss: 0.5409 - val_class_out_loss: 0.4220 - val_signal_out_loss: 0.1190 - val_class_out_acc: 0.8677\n",
      "Epoch 3/20\n",
      "6396/6396 [==============================] - 23s 4ms/step - loss: 0.4062 - class_out_loss: 0.2901 - signal_out_loss: 0.1161 - class_out_acc: 0.8896 - val_loss: 0.5698 - val_class_out_loss: 0.4493 - val_signal_out_loss: 0.1204 - val_class_out_acc: 0.8663\n",
      "Epoch 4/20\n",
      "6396/6396 [==============================] - 22s 3ms/step - loss: 0.3932 - class_out_loss: 0.2743 - signal_out_loss: 0.1190 - class_out_acc: 0.8953 - val_loss: 0.4955 - val_class_out_loss: 0.3802 - val_signal_out_loss: 0.1153 - val_class_out_acc: 0.8794\n",
      "Epoch 5/20\n",
      "6396/6396 [==============================] - 23s 4ms/step - loss: 0.3744 - class_out_loss: 0.2585 - signal_out_loss: 0.1159 - class_out_acc: 0.9012 - val_loss: 0.4682 - val_class_out_loss: 0.3403 - val_signal_out_loss: 0.1280 - val_class_out_acc: 0.8858\n",
      "Epoch 6/20\n",
      "6396/6396 [==============================] - 24s 4ms/step - loss: 0.3579 - class_out_loss: 0.2417 - signal_out_loss: 0.1162 - class_out_acc: 0.9049 - val_loss: 0.5599 - val_class_out_loss: 0.4398 - val_signal_out_loss: 0.1201 - val_class_out_acc: 0.8728\n",
      "Epoch 7/20\n",
      "2191/6396 [=========>....................] - ETA: 13s - loss: 0.3497 - class_out_loss: 0.2337 - signal_out_loss: 0.1160 - class_out_acc: 0.9099"
     ]
    },
    {
     "ename": "KeyboardInterrupt",
     "evalue": "",
     "output_type": "error",
     "traceback": [
      "\u001b[1;31m---------------------------------------------------------------------------\u001b[0m",
      "\u001b[1;31mKeyboardInterrupt\u001b[0m                         Traceback (most recent call last)",
      "\u001b[1;32m~\\AppData\\Local\\Temp\\ipykernel_6976\\941894010.py\u001b[0m in \u001b[0;36m<module>\u001b[1;34m\u001b[0m\n\u001b[1;32m----> 1\u001b[1;33m \u001b[0mhistory\u001b[0m \u001b[1;33m=\u001b[0m \u001b[0mmodel\u001b[0m\u001b[1;33m.\u001b[0m\u001b[0mfit\u001b[0m\u001b[1;33m(\u001b[0m\u001b[0mxtrain\u001b[0m\u001b[1;33m,\u001b[0m \u001b[0mytrain_hot\u001b[0m\u001b[1;33m,\u001b[0m \u001b[0mepochs\u001b[0m\u001b[1;33m=\u001b[0m\u001b[1;36m20\u001b[0m\u001b[1;33m,\u001b[0m \u001b[0mbatch_size\u001b[0m\u001b[1;33m=\u001b[0m\u001b[1;36m32\u001b[0m\u001b[1;33m,\u001b[0m \u001b[0mvalidation_data\u001b[0m\u001b[1;33m=\u001b[0m\u001b[1;33m(\u001b[0m\u001b[0mxval\u001b[0m\u001b[1;33m,\u001b[0m \u001b[0myval_hot\u001b[0m\u001b[1;33m)\u001b[0m\u001b[1;33m,\u001b[0m \u001b[0mshuffle\u001b[0m\u001b[1;33m=\u001b[0m\u001b[1;32mFalse\u001b[0m\u001b[1;33m)\u001b[0m\u001b[1;33m\u001b[0m\u001b[1;33m\u001b[0m\u001b[0m\n\u001b[0m",
      "\u001b[1;32m~\\Anaconda3\\lib\\site-packages\\keras\\utils\\traceback_utils.py\u001b[0m in \u001b[0;36merror_handler\u001b[1;34m(*args, **kwargs)\u001b[0m\n\u001b[0;32m     62\u001b[0m     \u001b[0mfiltered_tb\u001b[0m \u001b[1;33m=\u001b[0m \u001b[1;32mNone\u001b[0m\u001b[1;33m\u001b[0m\u001b[1;33m\u001b[0m\u001b[0m\n\u001b[0;32m     63\u001b[0m     \u001b[1;32mtry\u001b[0m\u001b[1;33m:\u001b[0m\u001b[1;33m\u001b[0m\u001b[1;33m\u001b[0m\u001b[0m\n\u001b[1;32m---> 64\u001b[1;33m       \u001b[1;32mreturn\u001b[0m \u001b[0mfn\u001b[0m\u001b[1;33m(\u001b[0m\u001b[1;33m*\u001b[0m\u001b[0margs\u001b[0m\u001b[1;33m,\u001b[0m \u001b[1;33m**\u001b[0m\u001b[0mkwargs\u001b[0m\u001b[1;33m)\u001b[0m\u001b[1;33m\u001b[0m\u001b[1;33m\u001b[0m\u001b[0m\n\u001b[0m\u001b[0;32m     65\u001b[0m     \u001b[1;32mexcept\u001b[0m \u001b[0mException\u001b[0m \u001b[1;32mas\u001b[0m \u001b[0me\u001b[0m\u001b[1;33m:\u001b[0m  \u001b[1;31m# pylint: disable=broad-except\u001b[0m\u001b[1;33m\u001b[0m\u001b[1;33m\u001b[0m\u001b[0m\n\u001b[0;32m     66\u001b[0m       \u001b[0mfiltered_tb\u001b[0m \u001b[1;33m=\u001b[0m \u001b[0m_process_traceback_frames\u001b[0m\u001b[1;33m(\u001b[0m\u001b[0me\u001b[0m\u001b[1;33m.\u001b[0m\u001b[0m__traceback__\u001b[0m\u001b[1;33m)\u001b[0m\u001b[1;33m\u001b[0m\u001b[1;33m\u001b[0m\u001b[0m\n",
      "\u001b[1;32m~\\Anaconda3\\lib\\site-packages\\keras\\engine\\training.py\u001b[0m in \u001b[0;36mfit\u001b[1;34m(self, x, y, batch_size, epochs, verbose, callbacks, validation_split, validation_data, shuffle, class_weight, sample_weight, initial_epoch, steps_per_epoch, validation_steps, validation_batch_size, validation_freq, max_queue_size, workers, use_multiprocessing)\u001b[0m\n\u001b[0;32m   1407\u001b[0m                 _r=1):\n\u001b[0;32m   1408\u001b[0m               \u001b[0mcallbacks\u001b[0m\u001b[1;33m.\u001b[0m\u001b[0mon_train_batch_begin\u001b[0m\u001b[1;33m(\u001b[0m\u001b[0mstep\u001b[0m\u001b[1;33m)\u001b[0m\u001b[1;33m\u001b[0m\u001b[1;33m\u001b[0m\u001b[0m\n\u001b[1;32m-> 1409\u001b[1;33m               \u001b[0mtmp_logs\u001b[0m \u001b[1;33m=\u001b[0m \u001b[0mself\u001b[0m\u001b[1;33m.\u001b[0m\u001b[0mtrain_function\u001b[0m\u001b[1;33m(\u001b[0m\u001b[0miterator\u001b[0m\u001b[1;33m)\u001b[0m\u001b[1;33m\u001b[0m\u001b[1;33m\u001b[0m\u001b[0m\n\u001b[0m\u001b[0;32m   1410\u001b[0m               \u001b[1;32mif\u001b[0m \u001b[0mdata_handler\u001b[0m\u001b[1;33m.\u001b[0m\u001b[0mshould_sync\u001b[0m\u001b[1;33m:\u001b[0m\u001b[1;33m\u001b[0m\u001b[1;33m\u001b[0m\u001b[0m\n\u001b[0;32m   1411\u001b[0m                 \u001b[0mcontext\u001b[0m\u001b[1;33m.\u001b[0m\u001b[0masync_wait\u001b[0m\u001b[1;33m(\u001b[0m\u001b[1;33m)\u001b[0m\u001b[1;33m\u001b[0m\u001b[1;33m\u001b[0m\u001b[0m\n",
      "\u001b[1;32m~\\Anaconda3\\lib\\site-packages\\tensorflow\\python\\util\\traceback_utils.py\u001b[0m in \u001b[0;36merror_handler\u001b[1;34m(*args, **kwargs)\u001b[0m\n\u001b[0;32m    148\u001b[0m     \u001b[0mfiltered_tb\u001b[0m \u001b[1;33m=\u001b[0m \u001b[1;32mNone\u001b[0m\u001b[1;33m\u001b[0m\u001b[1;33m\u001b[0m\u001b[0m\n\u001b[0;32m    149\u001b[0m     \u001b[1;32mtry\u001b[0m\u001b[1;33m:\u001b[0m\u001b[1;33m\u001b[0m\u001b[1;33m\u001b[0m\u001b[0m\n\u001b[1;32m--> 150\u001b[1;33m       \u001b[1;32mreturn\u001b[0m \u001b[0mfn\u001b[0m\u001b[1;33m(\u001b[0m\u001b[1;33m*\u001b[0m\u001b[0margs\u001b[0m\u001b[1;33m,\u001b[0m \u001b[1;33m**\u001b[0m\u001b[0mkwargs\u001b[0m\u001b[1;33m)\u001b[0m\u001b[1;33m\u001b[0m\u001b[1;33m\u001b[0m\u001b[0m\n\u001b[0m\u001b[0;32m    151\u001b[0m     \u001b[1;32mexcept\u001b[0m \u001b[0mException\u001b[0m \u001b[1;32mas\u001b[0m \u001b[0me\u001b[0m\u001b[1;33m:\u001b[0m\u001b[1;33m\u001b[0m\u001b[1;33m\u001b[0m\u001b[0m\n\u001b[0;32m    152\u001b[0m       \u001b[0mfiltered_tb\u001b[0m \u001b[1;33m=\u001b[0m \u001b[0m_process_traceback_frames\u001b[0m\u001b[1;33m(\u001b[0m\u001b[0me\u001b[0m\u001b[1;33m.\u001b[0m\u001b[0m__traceback__\u001b[0m\u001b[1;33m)\u001b[0m\u001b[1;33m\u001b[0m\u001b[1;33m\u001b[0m\u001b[0m\n",
      "\u001b[1;32m~\\Anaconda3\\lib\\site-packages\\tensorflow\\python\\eager\\def_function.py\u001b[0m in \u001b[0;36m__call__\u001b[1;34m(self, *args, **kwds)\u001b[0m\n\u001b[0;32m    913\u001b[0m \u001b[1;33m\u001b[0m\u001b[0m\n\u001b[0;32m    914\u001b[0m       \u001b[1;32mwith\u001b[0m \u001b[0mOptionalXlaContext\u001b[0m\u001b[1;33m(\u001b[0m\u001b[0mself\u001b[0m\u001b[1;33m.\u001b[0m\u001b[0m_jit_compile\u001b[0m\u001b[1;33m)\u001b[0m\u001b[1;33m:\u001b[0m\u001b[1;33m\u001b[0m\u001b[1;33m\u001b[0m\u001b[0m\n\u001b[1;32m--> 915\u001b[1;33m         \u001b[0mresult\u001b[0m \u001b[1;33m=\u001b[0m \u001b[0mself\u001b[0m\u001b[1;33m.\u001b[0m\u001b[0m_call\u001b[0m\u001b[1;33m(\u001b[0m\u001b[1;33m*\u001b[0m\u001b[0margs\u001b[0m\u001b[1;33m,\u001b[0m \u001b[1;33m**\u001b[0m\u001b[0mkwds\u001b[0m\u001b[1;33m)\u001b[0m\u001b[1;33m\u001b[0m\u001b[1;33m\u001b[0m\u001b[0m\n\u001b[0m\u001b[0;32m    916\u001b[0m \u001b[1;33m\u001b[0m\u001b[0m\n\u001b[0;32m    917\u001b[0m       \u001b[0mnew_tracing_count\u001b[0m \u001b[1;33m=\u001b[0m \u001b[0mself\u001b[0m\u001b[1;33m.\u001b[0m\u001b[0mexperimental_get_tracing_count\u001b[0m\u001b[1;33m(\u001b[0m\u001b[1;33m)\u001b[0m\u001b[1;33m\u001b[0m\u001b[1;33m\u001b[0m\u001b[0m\n",
      "\u001b[1;32m~\\Anaconda3\\lib\\site-packages\\tensorflow\\python\\eager\\def_function.py\u001b[0m in \u001b[0;36m_call\u001b[1;34m(self, *args, **kwds)\u001b[0m\n\u001b[0;32m    945\u001b[0m       \u001b[1;31m# In this case we have created variables on the first call, so we run the\u001b[0m\u001b[1;33m\u001b[0m\u001b[1;33m\u001b[0m\u001b[0m\n\u001b[0;32m    946\u001b[0m       \u001b[1;31m# defunned version which is guaranteed to never create variables.\u001b[0m\u001b[1;33m\u001b[0m\u001b[1;33m\u001b[0m\u001b[0m\n\u001b[1;32m--> 947\u001b[1;33m       \u001b[1;32mreturn\u001b[0m \u001b[0mself\u001b[0m\u001b[1;33m.\u001b[0m\u001b[0m_stateless_fn\u001b[0m\u001b[1;33m(\u001b[0m\u001b[1;33m*\u001b[0m\u001b[0margs\u001b[0m\u001b[1;33m,\u001b[0m \u001b[1;33m**\u001b[0m\u001b[0mkwds\u001b[0m\u001b[1;33m)\u001b[0m  \u001b[1;31m# pylint: disable=not-callable\u001b[0m\u001b[1;33m\u001b[0m\u001b[1;33m\u001b[0m\u001b[0m\n\u001b[0m\u001b[0;32m    948\u001b[0m     \u001b[1;32melif\u001b[0m \u001b[0mself\u001b[0m\u001b[1;33m.\u001b[0m\u001b[0m_stateful_fn\u001b[0m \u001b[1;32mis\u001b[0m \u001b[1;32mnot\u001b[0m \u001b[1;32mNone\u001b[0m\u001b[1;33m:\u001b[0m\u001b[1;33m\u001b[0m\u001b[1;33m\u001b[0m\u001b[0m\n\u001b[0;32m    949\u001b[0m       \u001b[1;31m# Release the lock early so that multiple threads can perform the call\u001b[0m\u001b[1;33m\u001b[0m\u001b[1;33m\u001b[0m\u001b[0m\n",
      "\u001b[1;32m~\\Anaconda3\\lib\\site-packages\\tensorflow\\python\\eager\\function.py\u001b[0m in \u001b[0;36m__call__\u001b[1;34m(self, *args, **kwargs)\u001b[0m\n\u001b[0;32m   2451\u001b[0m       (graph_function,\n\u001b[0;32m   2452\u001b[0m        filtered_flat_args) = self._maybe_define_function(args, kwargs)\n\u001b[1;32m-> 2453\u001b[1;33m     return graph_function._call_flat(\n\u001b[0m\u001b[0;32m   2454\u001b[0m         filtered_flat_args, captured_inputs=graph_function.captured_inputs)  # pylint: disable=protected-access\n\u001b[0;32m   2455\u001b[0m \u001b[1;33m\u001b[0m\u001b[0m\n",
      "\u001b[1;32m~\\Anaconda3\\lib\\site-packages\\tensorflow\\python\\eager\\function.py\u001b[0m in \u001b[0;36m_call_flat\u001b[1;34m(self, args, captured_inputs, cancellation_manager)\u001b[0m\n\u001b[0;32m   1858\u001b[0m         and executing_eagerly):\n\u001b[0;32m   1859\u001b[0m       \u001b[1;31m# No tape is watching; skip to running the function.\u001b[0m\u001b[1;33m\u001b[0m\u001b[1;33m\u001b[0m\u001b[0m\n\u001b[1;32m-> 1860\u001b[1;33m       return self._build_call_outputs(self._inference_function.call(\n\u001b[0m\u001b[0;32m   1861\u001b[0m           ctx, args, cancellation_manager=cancellation_manager))\n\u001b[0;32m   1862\u001b[0m     forward_backward = self._select_forward_and_backward_functions(\n",
      "\u001b[1;32m~\\Anaconda3\\lib\\site-packages\\tensorflow\\python\\eager\\function.py\u001b[0m in \u001b[0;36mcall\u001b[1;34m(self, ctx, args, cancellation_manager)\u001b[0m\n\u001b[0;32m    495\u001b[0m       \u001b[1;32mwith\u001b[0m \u001b[0m_InterpolateFunctionError\u001b[0m\u001b[1;33m(\u001b[0m\u001b[0mself\u001b[0m\u001b[1;33m)\u001b[0m\u001b[1;33m:\u001b[0m\u001b[1;33m\u001b[0m\u001b[1;33m\u001b[0m\u001b[0m\n\u001b[0;32m    496\u001b[0m         \u001b[1;32mif\u001b[0m \u001b[0mcancellation_manager\u001b[0m \u001b[1;32mis\u001b[0m \u001b[1;32mNone\u001b[0m\u001b[1;33m:\u001b[0m\u001b[1;33m\u001b[0m\u001b[1;33m\u001b[0m\u001b[0m\n\u001b[1;32m--> 497\u001b[1;33m           outputs = execute.execute(\n\u001b[0m\u001b[0;32m    498\u001b[0m               \u001b[0mstr\u001b[0m\u001b[1;33m(\u001b[0m\u001b[0mself\u001b[0m\u001b[1;33m.\u001b[0m\u001b[0msignature\u001b[0m\u001b[1;33m.\u001b[0m\u001b[0mname\u001b[0m\u001b[1;33m)\u001b[0m\u001b[1;33m,\u001b[0m\u001b[1;33m\u001b[0m\u001b[1;33m\u001b[0m\u001b[0m\n\u001b[0;32m    499\u001b[0m               \u001b[0mnum_outputs\u001b[0m\u001b[1;33m=\u001b[0m\u001b[0mself\u001b[0m\u001b[1;33m.\u001b[0m\u001b[0m_num_outputs\u001b[0m\u001b[1;33m,\u001b[0m\u001b[1;33m\u001b[0m\u001b[1;33m\u001b[0m\u001b[0m\n",
      "\u001b[1;32m~\\Anaconda3\\lib\\site-packages\\tensorflow\\python\\eager\\execute.py\u001b[0m in \u001b[0;36mquick_execute\u001b[1;34m(op_name, num_outputs, inputs, attrs, ctx, name)\u001b[0m\n\u001b[0;32m     52\u001b[0m   \u001b[1;32mtry\u001b[0m\u001b[1;33m:\u001b[0m\u001b[1;33m\u001b[0m\u001b[1;33m\u001b[0m\u001b[0m\n\u001b[0;32m     53\u001b[0m     \u001b[0mctx\u001b[0m\u001b[1;33m.\u001b[0m\u001b[0mensure_initialized\u001b[0m\u001b[1;33m(\u001b[0m\u001b[1;33m)\u001b[0m\u001b[1;33m\u001b[0m\u001b[1;33m\u001b[0m\u001b[0m\n\u001b[1;32m---> 54\u001b[1;33m     tensors = pywrap_tfe.TFE_Py_Execute(ctx._handle, device_name, op_name,\n\u001b[0m\u001b[0;32m     55\u001b[0m                                         inputs, attrs, num_outputs)\n\u001b[0;32m     56\u001b[0m   \u001b[1;32mexcept\u001b[0m \u001b[0mcore\u001b[0m\u001b[1;33m.\u001b[0m\u001b[0m_NotOkStatusException\u001b[0m \u001b[1;32mas\u001b[0m \u001b[0me\u001b[0m\u001b[1;33m:\u001b[0m\u001b[1;33m\u001b[0m\u001b[1;33m\u001b[0m\u001b[0m\n",
      "\u001b[1;31mKeyboardInterrupt\u001b[0m: "
     ]
    }
   ],
   "source": [
    "history = model.fit(xtrain, ytrain_hot, epochs=20, batch_size=32, validation_data=(xval, yval_hot), shuffle=False)"
   ]
  },
  {
   "cell_type": "code",
   "execution_count": null,
   "id": "a7d03d83",
   "metadata": {},
   "outputs": [],
   "source": [
    "plt.plot(history.history[\"class_out_loss\"])\n",
    "plt.plot(history.history[\"val_class_out_loss\"])\n",
    "plt.title(\"MODEL LOSS\")\n",
    "plt.legend([\"train\", \"validation\"])"
   ]
  },
  {
   "cell_type": "code",
   "execution_count": null,
   "id": "f184b5e3",
   "metadata": {},
   "outputs": [],
   "source": [
    "plt.plot(history.history[\"class_out_acc\"])\n",
    "plt.plot(history.history[\"val_class_out_acc\"])\n",
    "plt.title(\"MODEL ACCURACY\")\n",
    "plt.legend([\"train\", \"validation\"])"
   ]
  },
  {
   "cell_type": "code",
   "execution_count": null,
   "id": "03f5811e",
   "metadata": {},
   "outputs": [],
   "source": []
  }
 ],
 "metadata": {
  "kernelspec": {
   "display_name": "Python 3 (ipykernel)",
   "language": "python",
   "name": "python3"
  },
  "language_info": {
   "codemirror_mode": {
    "name": "ipython",
    "version": 3
   },
   "file_extension": ".py",
   "mimetype": "text/x-python",
   "name": "python",
   "nbconvert_exporter": "python",
   "pygments_lexer": "ipython3",
   "version": "3.9.13"
  }
 },
 "nbformat": 4,
 "nbformat_minor": 5
}
